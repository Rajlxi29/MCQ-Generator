{
 "cells": [
  {
   "cell_type": "code",
   "execution_count": 1,
   "id": "9a27fec8",
   "metadata": {},
   "outputs": [],
   "source": [
    "import pandas as pd \n",
    "import os\n",
    "import traceback\n",
    "import json"
   ]
  },
  {
   "cell_type": "code",
   "execution_count": 2,
   "id": "55dcdb9d",
   "metadata": {},
   "outputs": [
    {
     "name": "stdout",
     "output_type": "stream",
     "text": [
      "2.3.2\n"
     ]
    }
   ],
   "source": [
    "print(pd.__version__)"
   ]
  },
  {
   "cell_type": "code",
   "execution_count": 3,
   "id": "a9f0497d",
   "metadata": {},
   "outputs": [
    {
     "name": "stdout",
     "output_type": "stream",
     "text": [
      "d:\\GenAI\\MCQ Generator\\env\\python.exe\n"
     ]
    }
   ],
   "source": [
    "import sys\n",
    "print(sys.executable)"
   ]
  },
  {
   "cell_type": "code",
   "execution_count": 4,
   "id": "843922f3",
   "metadata": {},
   "outputs": [
    {
     "name": "stderr",
     "output_type": "stream",
     "text": [
      "'d:\\GenAI\\MCQ' is not recognized as an internal or external command,\n",
      "operable program or batch file.\n"
     ]
    }
   ],
   "source": [
    "!{sys.executable} -m pip install langchain"
   ]
  },
  {
   "cell_type": "code",
   "execution_count": 5,
   "id": "56bc6fcf",
   "metadata": {},
   "outputs": [],
   "source": [
    "from langchain_openai import ChatOpenAI"
   ]
  },
  {
   "cell_type": "code",
   "execution_count": 7,
   "id": "1b953db8",
   "metadata": {},
   "outputs": [],
   "source": [
    "key = os.getenv(\"OPENAI_KEY\")\n",
    "os.environ[\"OPENAI_API_BASE\"] = \"https://openrouter.ai/api/v1\" "
   ]
  },
  {
   "cell_type": "code",
   "execution_count": 8,
   "id": "65f36d4e",
   "metadata": {},
   "outputs": [
    {
     "data": {
      "text/plain": [
       "True"
      ]
     },
     "execution_count": 8,
     "metadata": {},
     "output_type": "execute_result"
    }
   ],
   "source": [
    "from dotenv import load_dotenv\n",
    "load_dotenv()"
   ]
  },
  {
   "cell_type": "code",
   "execution_count": 9,
   "id": "f4aba7fb",
   "metadata": {},
   "outputs": [
    {
     "name": "stdout",
     "output_type": "stream",
     "text": [
      "Of course! The Prime Minister of India is **Narendra Modi**.\n",
      "\n",
      "He is the head of the government and the leader of the executive branch.\n",
      "\n",
      "Here are some key details:\n",
      "\n",
      "*   **Political Party:** Bharatiya Janata Party (BJP)\n",
      "*   **Took Office:** 26th May 2014\n",
      "*   **Current Term:** This is his second consecutive term, which began on **30th May 2019**.\n",
      "\n",
      "He was previously the Chief Minister of the state of Gujarat from 2001 to 2014.\n"
     ]
    }
   ],
   "source": [
    "client = ChatOpenAI(\n",
    "    model = \"deepseek/deepseek-chat-v3.1:free\",\n",
    "    temperature = 0.8\n",
    ")\n",
    "\n",
    "response = client.invoke(\"Who is the Prime Minister of India ?\")\n",
    "print(response.content)"
   ]
  },
  {
   "cell_type": "code",
   "execution_count": 10,
   "id": "487b55c7",
   "metadata": {},
   "outputs": [
    {
     "name": "stdout",
     "output_type": "stream",
     "text": [
      "That's an excellent question! The answer is more fascinating than you might think, and it depends on how you look at it.\n",
      "\n",
      "The short answer is: **To human eyes on Earth, the Sun's light appears white.**\n",
      "\n",
      "However, the full story involves physics, biology, and perspective. Here’s a breakdown:\n",
      "\n",
      "### 1. The Scientific View: It's All the Colors\n",
      "Sunlight is the full spectrum of visible light. When sunlight passes through a prism, it separates into all the colors of the rainbow: **red, orange, yellow, green, blue, indigo, and violet**. This means sunlight contains all of these colors combined.\n",
      "\n",
      "The Sun emits energy across a wide range of wavelengths, but the peak of its emission is in the green portion of the spectrum.\n",
      "\n",
      "### 2. The Biological View: Why We See It as White\n",
      "Our eyes have three types of color receptors (cones) that are most sensitive to red, green, and blue light. When all these receptors are stimulated equally by a light source containing all wavelengths, our brain interprets that signal as **\"white.\"**\n",
      "\n",
      "So, while the Sun emits a mix of all colors, our perception blends them into what we call white light.\n",
      "\n",
      "### 3. The Atmospheric View: Why It Changes Color\n",
      "This is where it gets interesting. While the light from the Sun itself is white, Earth's atmosphere acts like a filter and scatters the light, changing how we see it throughout the day.\n",
      "\n",
      "*   **Midday Sun:** When the Sun is high in the sky, its light takes the shortest path through the atmosphere. A small amount of blue light is scattered (making the sky look blue), but most of the light reaches our eyes directly, so the Sun itself appears **bright white** or slightly yellowish.\n",
      "\n",
      "*   **Sunrise & Sunset:** When the Sun is low on the horizon, its light must travel through much more of the Earth's atmosphere. This longer path scatters away most of the shorter wavelength colors (blues and greens). The longer wavelength colors (reds, oranges, and yellows) pass through more easily, making the Sun appear a deep **orange or red**.\n",
      "\n",
      "*   **From Space:** Astronauts see the true color of the Sun. Without an atmosphere to scatter its light, the Sun appears as a blinding, pure **white** disk.\n",
      "\n",
      "### Summary Table\n",
      "\n",
      "| Perspective | Color of Sunlight | Reason |\n",
      "| :--- | :--- | :--- |\n",
      "| **Scientific (Spectrum)** | **All Colors** | It contains the entire visible spectrum. |\n",
      "| **Human Perception** | **White** | Our eyes blend all the colors together. |\n",
      "| **Midday on Earth** | **White / Pale Yellow** | Short path through the atmosphere. |\n",
      "| **Sunrise/Sunset** | **Red, Orange, Yellow** | Long path scatters blue light away. |\n",
      "| **From Space** | **Pure White** | No atmosphere to scatter the light. |\n",
      "\n",
      "So, while we often say the Sun is \"yellow,\" that's usually just how it appears through our atmosphere. Its true, combined color is what we define as **white**.\n",
      "\n",
      "Think of it this way: The color \"white\" is literally defined as the presence of all colors of light. Since sunlight is all colors, it is, by definition, white.\n"
     ]
    }
   ],
   "source": [
    "response2 = client.invoke(\"what is the color of sunlight?\")\n",
    "print(response2.content)"
   ]
  },
  {
   "cell_type": "code",
   "execution_count": 11,
   "id": "f32acc0a",
   "metadata": {},
   "outputs": [],
   "source": [
    "from langchain.chains import LLMChain, SequentialChain\n",
    "from langchain.prompts import PromptTemplate\n",
    "from langchain.callbacks import get_openai_callback\n",
    "import PyPDF2\n",
    "import re"
   ]
  },
  {
   "cell_type": "code",
   "execution_count": 12,
   "id": "46a071fb",
   "metadata": {},
   "outputs": [],
   "source": [
    "response_json = {\n",
    "    \"1\":{\n",
    "        \"mcq\":\"multiple choice question\",\n",
    "        \"options\":{\n",
    "            \"a\":\"choice here\",\n",
    "            \"b\":\"choice here\",\n",
    "            \"c\":\"choice here\",\n",
    "            \"d\":\"choice here\"\n",
    "        },\n",
    "        \"correct\":\"correct answer here\",\n",
    "    },\n",
    "\n",
    "    \"2\":{\n",
    "        \"mcq\":\"multiple choice question\",\n",
    "        \"options\":{\n",
    "            \"a\":\"choice here\",\n",
    "            \"b\":\"choice here\",\n",
    "            \"c\":\"choice here\",\n",
    "            \"d\":\"choice here\"\n",
    "        },\n",
    "        \"correct\":\"correct answer here\",\n",
    "    },\n",
    "\n",
    "    \"3\":{\n",
    "        \"mcq\":\"multiple choice question\",\n",
    "        \"options\":{\n",
    "            \"a\":\"choice here\",\n",
    "            \"b\":\"choice here\",\n",
    "            \"c\":\"choice here\",\n",
    "            \"d\":\"choice here\"\n",
    "        },\n",
    "        \"correct\":\"correct answer here\",\n",
    "    },\n",
    "\n",
    "}"
   ]
  },
  {
   "cell_type": "code",
   "execution_count": 13,
   "id": "e5bb48c6",
   "metadata": {},
   "outputs": [],
   "source": [
    "quiz_template = \"\"\"\n",
    "Text:{text}\n",
    "You are an expert MCQ maker. Given the above text, it is your job to \\\n",
    "create a quiz  of {number} multiple choice questions for {subject} students in {tone} tone. \n",
    "Make sure the questions are not repeated and check all the questions to be conforming the text as well.\n",
    "Make sure to format your response like  RESPONSE_JSON below  and use it as a guide. \\\n",
    "Ensure to make {number} MCQs\n",
    "### RESPONSE_JSON\n",
    "{response_json}\n",
    "\n",
    "\"\"\""
   ]
  },
  {
   "cell_type": "code",
   "execution_count": 14,
   "id": "20ab74d7",
   "metadata": {},
   "outputs": [],
   "source": [
    "from langchain.prompts import PromptTemplate\n",
    "quiz_prompt = PromptTemplate(\n",
    "    input_variables=[\"text\",\"number\",\"subject\",\"tone\",\"response_json\"],\n",
    "    template=quiz_template\n",
    ")\n"
   ]
  },
  {
   "cell_type": "code",
   "execution_count": 15,
   "id": "99b5a3bc",
   "metadata": {},
   "outputs": [
    {
     "name": "stderr",
     "output_type": "stream",
     "text": [
      "C:\\Users\\Dell\\AppData\\Local\\Temp\\ipykernel_17688\\2053275858.py:1: LangChainDeprecationWarning: The class `LLMChain` was deprecated in LangChain 0.1.17 and will be removed in 1.0. Use :meth:`~RunnableSequence, e.g., `prompt | llm`` instead.\n",
      "  quiz_chain = LLMChain(llm=client, prompt=quiz_prompt, output_key=\"quiz\", verbose=True)\n"
     ]
    }
   ],
   "source": [
    "quiz_chain = LLMChain(llm=client, prompt=quiz_prompt, output_key=\"quiz\", verbose=True)"
   ]
  },
  {
   "cell_type": "code",
   "execution_count": 16,
   "id": "7a40461b",
   "metadata": {},
   "outputs": [],
   "source": [
    "evaluate_template=\"\"\"\n",
    "You are an expert english grammarian and writer. Given a Multiple Choice Quiz for {subject} students.\\\n",
    "You need to evaluate the complexity of the question and give a complete analysis of the quiz. Only use at max 50 words for complexity analysis. \n",
    "if the quiz is not at per with the cognitive and analytical abilities of the students,\\\n",
    "update the quiz questions which needs to be changed and change the tone such that it perfectly fits the student abilities\n",
    "Quiz_MCQs:\n",
    "{quiz}\n",
    "\n",
    "Check from an expert English Writer of the above quiz:\"\"\""
   ]
  },
  {
   "cell_type": "code",
   "execution_count": 17,
   "id": "e8f85ab3",
   "metadata": {},
   "outputs": [],
   "source": [
    "evaluate_prompt = PromptTemplate(\n",
    "    input_variables = [\"subject\", \"quiz\"],\n",
    "    template = evaluate_template\n",
    ")"
   ]
  },
  {
   "cell_type": "code",
   "execution_count": 18,
   "id": "a2a1973b",
   "metadata": {},
   "outputs": [],
   "source": [
    "eval_chain = LLMChain(llm=client, prompt=evaluate_prompt, output_key=\"review\", verbose=True)"
   ]
  },
  {
   "cell_type": "code",
   "execution_count": 19,
   "id": "322a4ad9",
   "metadata": {},
   "outputs": [],
   "source": [
    "final_mcq_generator = SequentialChain(chains=[quiz_chain, eval_chain],\n",
    "                                      input_variables = [\"text\", \"number\", \"subject\", \"tone\", \"response_json\"],\n",
    "                                      output_variables = [\"quiz\", \"review\"], verbose = True)"
   ]
  },
  {
   "cell_type": "code",
   "execution_count": 20,
   "id": "7edf3502",
   "metadata": {},
   "outputs": [],
   "source": [
    "file_path = r\"D:\\GenAI\\MCQ Generator\\Roman_history.txt\""
   ]
  },
  {
   "cell_type": "code",
   "execution_count": 21,
   "id": "aef7cc25",
   "metadata": {},
   "outputs": [
    {
     "name": "stdout",
     "output_type": "stream",
     "text": [
      "In modern historiography, ancient Rome is the Roman civilisation from the founding of the Italian city of Rome in the 8th century BC to the collapse of the Western Roman Empire in the 5th century AD. It encompasses the Roman Kingdom (753–509 BC), the Roman Republic (509‍–‍27 BC), and the Roman Empire (27 BC – 476 AD) until the fall of the western empire.[1][a]\n",
      "\n",
      "Ancient Rome began as an Italic settlement, traditionally dated to 753 BC, beside the River Tiber in the Italian peninsula. The settlement grew into the city and polity of Rome, and came to control its neighbours through a combination of treaties and military strength. It eventually controlled the Italian Peninsula, assimilating the Greek culture of southern Italy (Magna Graecia) and the Etruscan culture, and then became the dominant power in the Mediterranean region and parts of Europe. At its height it controlled the North African coast, Egypt, Southern Europe, and most of Western Europe, the Balkans, Crimea, and much of the Middle East, including Anatolia, the Levant, and parts of Mesopotamia and Arabia. That empire was among the largest empires in the ancient world, covering around 5 million square kilometres (1.9 million square miles) in AD 117,[2] with an estimated 50 to 90 million inhabitants, roughly 20% of the world's population at the time.[b] The Roman state evolved from an elective monarchy to a classical republic and then to an increasingly autocratic military dictatorship during the Empire.\n",
      "\n",
      "Ancient Rome is often grouped into classical antiquity together with ancient Greece, and their similar cultures and societies are known as the Greco-Roman world. Ancient Roman civilisation has contributed to modern language, religion, society, technology, law, politics, government, warfare, art, literature, architecture, and engineering. Rome professionalised and expanded its military and created a system of government called res publica, the inspiration for modern republics such as the United States and France.[3] It achieved impressive technological and architectural feats, such as the empire-wide construction of aqueducts and roads, as well as more grandiose monuments and facilities.\n",
      "\n",
      "History\n",
      "Early Italy and the founding of Rome\n",
      "Further information: Founding of Rome\n",
      "Capitoline Wolf\n",
      "The Capitoline Wolf, now illustrating the legend that a she-wolf suckled Romulus and Remus after their mother's imprisonment in Alba Longa\n",
      "Rome 753 BC\n",
      "Modern reconstruction of the marshy conditions of early Rome, along with a conjectural placement of the early settlement and its fortifications\n",
      "Archaeological evidence of settlement around Rome starts to emerge c. 1000 BC.[4] Large-scale organisation appears only c. 800 BC, with the first graves in the Esquiline Hill's necropolis, along with a clay and timber wall on the bottom of the Palatine Hill dating to the middle of the 8th century BC. Starting from c. 650 BC, the Romans started to drain the valley between the Capitoline and Palatine Hills, where today sits the Roman Forum.[5] By the 6th century BC, the Romans were constructing the Temple of Jupiter Optimus Maximus on the Capitoline and expanding to the Forum Boarium located between the Capitoline and Aventine Hills.[6]\n",
      "\n",
      "The Romans themselves had a founding myth, attributing their city to Romulus and Remus, offspring of Mars and a princess of the mythical city of Alba Longa.[7] The sons, sentenced to death, were rescued by a wolf and returned to restore the Alban king and found a city. After a dispute, Romulus killed Remus and became the city's sole founder. The area of his initial settlement on the Palatine Hill was later known as Roma quadrata ('Square Rome'). The story dates at least to the 3rd century BC, and the later Roman antiquarian Marcus Terentius Varro placed the city's foundation to 753 BC.[8] Another legend, recorded by Greek historian Dionysius of Halicarnassus, says that Prince Aeneas led a group of Trojans on a sea voyage to found a new Troy after the Trojan War. They landed on the banks of the Tiber River and a woman travelling with them, Roma, torched their ships to prevent them leaving again. They named the settlement after her.[9] The Roman poet Virgil recounted this legend in his classical epic poem the Aeneid.\n",
      "\n",
      "\n"
     ]
    }
   ],
   "source": [
    "with open(file_path,'r', encoding='utf-8') as file:\n",
    "    Text = file.read()\n",
    "print(Text)"
   ]
  },
  {
   "cell_type": "code",
   "execution_count": 22,
   "id": "d14c9fe2",
   "metadata": {},
   "outputs": [],
   "source": [
    "num = 5\n",
    "sub = \"Ancinet Rome\"\n",
    "tone = \"Medium\""
   ]
  },
  {
   "cell_type": "code",
   "execution_count": 23,
   "id": "ea5b8a65",
   "metadata": {},
   "outputs": [
    {
     "name": "stderr",
     "output_type": "stream",
     "text": [
      "C:\\Users\\Dell\\AppData\\Local\\Temp\\ipykernel_17688\\4106291851.py:2: LangChainDeprecationWarning: The method `Chain.__call__` was deprecated in langchain 0.1.0 and will be removed in 1.0. Use :meth:`~invoke` instead.\n",
      "  response = final_mcq_generator(\n"
     ]
    },
    {
     "name": "stdout",
     "output_type": "stream",
     "text": [
      "\n",
      "\n",
      "\u001b[1m> Entering new SequentialChain chain...\u001b[0m\n",
      "\n",
      "\n",
      "\u001b[1m> Entering new LLMChain chain...\u001b[0m\n",
      "Prompt after formatting:\n",
      "\u001b[32;1m\u001b[1;3m\n",
      "Text:In modern historiography, ancient Rome is the Roman civilisation from the founding of the Italian city of Rome in the 8th century BC to the collapse of the Western Roman Empire in the 5th century AD. It encompasses the Roman Kingdom (753–509 BC), the Roman Republic (509‍–‍27 BC), and the Roman Empire (27 BC – 476 AD) until the fall of the western empire.[1][a]\n",
      "\n",
      "Ancient Rome began as an Italic settlement, traditionally dated to 753 BC, beside the River Tiber in the Italian peninsula. The settlement grew into the city and polity of Rome, and came to control its neighbours through a combination of treaties and military strength. It eventually controlled the Italian Peninsula, assimilating the Greek culture of southern Italy (Magna Graecia) and the Etruscan culture, and then became the dominant power in the Mediterranean region and parts of Europe. At its height it controlled the North African coast, Egypt, Southern Europe, and most of Western Europe, the Balkans, Crimea, and much of the Middle East, including Anatolia, the Levant, and parts of Mesopotamia and Arabia. That empire was among the largest empires in the ancient world, covering around 5 million square kilometres (1.9 million square miles) in AD 117,[2] with an estimated 50 to 90 million inhabitants, roughly 20% of the world's population at the time.[b] The Roman state evolved from an elective monarchy to a classical republic and then to an increasingly autocratic military dictatorship during the Empire.\n",
      "\n",
      "Ancient Rome is often grouped into classical antiquity together with ancient Greece, and their similar cultures and societies are known as the Greco-Roman world. Ancient Roman civilisation has contributed to modern language, religion, society, technology, law, politics, government, warfare, art, literature, architecture, and engineering. Rome professionalised and expanded its military and created a system of government called res publica, the inspiration for modern republics such as the United States and France.[3] It achieved impressive technological and architectural feats, such as the empire-wide construction of aqueducts and roads, as well as more grandiose monuments and facilities.\n",
      "\n",
      "History\n",
      "Early Italy and the founding of Rome\n",
      "Further information: Founding of Rome\n",
      "Capitoline Wolf\n",
      "The Capitoline Wolf, now illustrating the legend that a she-wolf suckled Romulus and Remus after their mother's imprisonment in Alba Longa\n",
      "Rome 753 BC\n",
      "Modern reconstruction of the marshy conditions of early Rome, along with a conjectural placement of the early settlement and its fortifications\n",
      "Archaeological evidence of settlement around Rome starts to emerge c. 1000 BC.[4] Large-scale organisation appears only c. 800 BC, with the first graves in the Esquiline Hill's necropolis, along with a clay and timber wall on the bottom of the Palatine Hill dating to the middle of the 8th century BC. Starting from c. 650 BC, the Romans started to drain the valley between the Capitoline and Palatine Hills, where today sits the Roman Forum.[5] By the 6th century BC, the Romans were constructing the Temple of Jupiter Optimus Maximus on the Capitoline and expanding to the Forum Boarium located between the Capitoline and Aventine Hills.[6]\n",
      "\n",
      "The Romans themselves had a founding myth, attributing their city to Romulus and Remus, offspring of Mars and a princess of the mythical city of Alba Longa.[7] The sons, sentenced to death, were rescued by a wolf and returned to restore the Alban king and found a city. After a dispute, Romulus killed Remus and became the city's sole founder. The area of his initial settlement on the Palatine Hill was later known as Roma quadrata ('Square Rome'). The story dates at least to the 3rd century BC, and the later Roman antiquarian Marcus Terentius Varro placed the city's foundation to 753 BC.[8] Another legend, recorded by Greek historian Dionysius of Halicarnassus, says that Prince Aeneas led a group of Trojans on a sea voyage to found a new Troy after the Trojan War. They landed on the banks of the Tiber River and a woman travelling with them, Roma, torched their ships to prevent them leaving again. They named the settlement after her.[9] The Roman poet Virgil recounted this legend in his classical epic poem the Aeneid.\n",
      "\n",
      "\n",
      "You are an expert MCQ maker. Given the above text, it is your job to create a quiz  of 5 multiple choice questions for Ancinet Rome students in Medium tone. \n",
      "Make sure the questions are not repeated and check all the questions to be conforming the text as well.\n",
      "Make sure to format your response like  RESPONSE_JSON below  and use it as a guide. Ensure to make 5 MCQs\n",
      "### RESPONSE_JSON\n",
      "{\"1\": {\"mcq\": \"multiple choice question\", \"options\": {\"a\": \"choice here\", \"b\": \"choice here\", \"c\": \"choice here\", \"d\": \"choice here\"}, \"correct\": \"correct answer here\"}, \"2\": {\"mcq\": \"multiple choice question\", \"options\": {\"a\": \"choice here\", \"b\": \"choice here\", \"c\": \"choice here\", \"d\": \"choice here\"}, \"correct\": \"correct answer here\"}, \"3\": {\"mcq\": \"multiple choice question\", \"options\": {\"a\": \"choice here\", \"b\": \"choice here\", \"c\": \"choice here\", \"d\": \"choice here\"}, \"correct\": \"correct answer here\"}}\n",
      "\n",
      "\u001b[0m\n",
      "\n",
      "\u001b[1m> Finished chain.\u001b[0m\n",
      "\n",
      "\n",
      "\u001b[1m> Entering new LLMChain chain...\u001b[0m\n",
      "Prompt after formatting:\n",
      "\u001b[32;1m\u001b[1;3m\n",
      "You are an expert english grammarian and writer. Given a Multiple Choice Quiz for Ancinet Rome students.You need to evaluate the complexity of the question and give a complete analysis of the quiz. Only use at max 50 words for complexity analysis. \n",
      "if the quiz is not at per with the cognitive and analytical abilities of the students,update the quiz questions which needs to be changed and change the tone such that it perfectly fits the student abilities\n",
      "Quiz_MCQs:\n",
      "```json\n",
      "{\n",
      "  \"1\": {\n",
      "    \"mcq\": \"According to modern historiography, what is the correct chronological order of the major periods of Ancient Rome?\",\n",
      "    \"options\": {\n",
      "      \"a\": \"Roman Kingdom, Roman Republic, Roman Empire\",\n",
      "      \"b\": \"Roman Republic, Roman Kingdom, Roman Empire\",\n",
      "      \"c\": \"Roman Empire, Roman Republic, Roman Kingdom\",\n",
      "      \"d\": \"Roman Kingdom, Roman Empire, Roman Republic\"\n",
      "    },\n",
      "    \"correct\": \"a\"\n",
      "  },\n",
      "  \"2\": {\n",
      "    \"mcq\": \"What was the estimated population of the Roman Empire at its peak in AD 117?\",\n",
      "    \"options\": {\n",
      "      \"a\": \"20 to 40 million inhabitants\",\n",
      "      \"b\": \"50 to 90 million inhabitants\",\n",
      "      \"c\": \"10 to 20 million inhabitants\",\n",
      "      \"d\": \"100 to 120 million inhabitants\"\n",
      "    },\n",
      "    \"correct\": \"b\"\n",
      "  },\n",
      "  \"3\": {\n",
      "    \"mcq\": \"According to Roman legend, who were the twin founders of Rome, said to have been suckled by a she-wolf?\",\n",
      "    \"options\": {\n",
      "      \"a\": \"Aeneas and Romulus\",\n",
      "      \"b\": \"Remus and Aeneas\",\n",
      "      \"c\": \"Romulus and Remus\",\n",
      "      \"d\": \"Mars and Jupiter\"\n",
      "    },\n",
      "    \"correct\": \"c\"\n",
      "  },\n",
      "  \"4\": {\n",
      "    \"mcq\": \"What was the name of the system of government created by the Romans, which is an inspiration for modern republics?\",\n",
      "    \"options\": {\n",
      "      \"a\": \"Senatus Populusque Romanus\",\n",
      "      \"b\": \"Res Publica\",\n",
      "      \"c\": \"Magna Graecia\",\n",
      "      \"d\": \"Roma Quadrata\"\n",
      "    },\n",
      "    \"correct\": \"b\"\n",
      "  },\n",
      "  \"5\": {\n",
      "    \"mcq\": \"Archaeological evidence suggests that large-scale organization around Rome began to emerge around which time?\",\n",
      "    \"options\": {\n",
      "      \"a\": \"650 BC\",\n",
      "      \"b\": \"1000 BC\",\n",
      "      \"c\": \"753 BC\",\n",
      "      \"d\": \"800 BC\"\n",
      "    },\n",
      "    \"correct\": \"d\"\n",
      "  }\n",
      "}\n",
      "```\n",
      "\n",
      "Check from an expert English Writer of the above quiz:\u001b[0m\n",
      "\n",
      "\u001b[1m> Finished chain.\u001b[0m\n",
      "\n",
      "\u001b[1m> Finished chain.\u001b[0m\n"
     ]
    }
   ],
   "source": [
    "with get_openai_callback() as cb:\n",
    "    response = final_mcq_generator(\n",
    "        {\n",
    "        \"text\":Text,\n",
    "        \"number\":num,\n",
    "        \"subject\":sub,\n",
    "        \"tone\":tone,\n",
    "        \"response_json\":json.dumps(response_json)\n",
    "        }\n",
    "    )\n"
   ]
  },
  {
   "cell_type": "code",
   "execution_count": 24,
   "id": "b7ed4f14",
   "metadata": {},
   "outputs": [
    {
     "name": "stdout",
     "output_type": "stream",
     "text": [
      "2278\n",
      "0.0\n"
     ]
    }
   ],
   "source": [
    "print(cb.total_tokens)\n",
    "print(cb.total_cost)"
   ]
  },
  {
   "cell_type": "code",
   "execution_count": 25,
   "id": "efa4b3fd",
   "metadata": {},
   "outputs": [
    {
     "data": {
      "text/plain": [
       "{'text': \"In modern historiography, ancient Rome is the Roman civilisation from the founding of the Italian city of Rome in the 8th century BC to the collapse of the Western Roman Empire in the 5th century AD. It encompasses the Roman Kingdom (753–509 BC), the Roman Republic (509\\u200d–\\u200d27 BC), and the Roman Empire (27 BC – 476 AD) until the fall of the western empire.[1][a]\\n\\nAncient Rome began as an Italic settlement, traditionally dated to 753 BC, beside the River Tiber in the Italian peninsula. The settlement grew into the city and polity of Rome, and came to control its neighbours through a combination of treaties and military strength. It eventually controlled the Italian Peninsula, assimilating the Greek culture of southern Italy (Magna Graecia) and the Etruscan culture, and then became the dominant power in the Mediterranean region and parts of Europe. At its height it controlled the North African coast, Egypt, Southern Europe, and most of Western Europe, the Balkans, Crimea, and much of the Middle East, including Anatolia, the Levant, and parts of Mesopotamia and Arabia. That empire was among the largest empires in the ancient world, covering around 5 million square kilometres (1.9 million square miles) in AD 117,[2] with an estimated 50 to 90 million inhabitants, roughly 20% of the world's population at the time.[b] The Roman state evolved from an elective monarchy to a classical republic and then to an increasingly autocratic military dictatorship during the Empire.\\n\\nAncient Rome is often grouped into classical antiquity together with ancient Greece, and their similar cultures and societies are known as the Greco-Roman world. Ancient Roman civilisation has contributed to modern language, religion, society, technology, law, politics, government, warfare, art, literature, architecture, and engineering. Rome professionalised and expanded its military and created a system of government called res publica, the inspiration for modern republics such as the United States and France.[3] It achieved impressive technological and architectural feats, such as the empire-wide construction of aqueducts and roads, as well as more grandiose monuments and facilities.\\n\\nHistory\\nEarly Italy and the founding of Rome\\nFurther information: Founding of Rome\\nCapitoline Wolf\\nThe Capitoline Wolf, now illustrating the legend that a she-wolf suckled Romulus and Remus after their mother's imprisonment in Alba Longa\\nRome 753 BC\\nModern reconstruction of the marshy conditions of early Rome, along with a conjectural placement of the early settlement and its fortifications\\nArchaeological evidence of settlement around Rome starts to emerge c.\\u20091000 BC.[4] Large-scale organisation appears only c.\\u2009800 BC, with the first graves in the Esquiline Hill's necropolis, along with a clay and timber wall on the bottom of the Palatine Hill dating to the middle of the 8th century BC. Starting from c.\\u2009650 BC, the Romans started to drain the valley between the Capitoline and Palatine Hills, where today sits the Roman Forum.[5] By the 6th century BC, the Romans were constructing the Temple of Jupiter Optimus Maximus on the Capitoline and expanding to the Forum Boarium located between the Capitoline and Aventine Hills.[6]\\n\\nThe Romans themselves had a founding myth, attributing their city to Romulus and Remus, offspring of Mars and a princess of the mythical city of Alba Longa.[7] The sons, sentenced to death, were rescued by a wolf and returned to restore the Alban king and found a city. After a dispute, Romulus killed Remus and became the city's sole founder. The area of his initial settlement on the Palatine Hill was later known as Roma quadrata ('Square Rome'). The story dates at least to the 3rd century BC, and the later Roman antiquarian Marcus Terentius Varro placed the city's foundation to 753 BC.[8] Another legend, recorded by Greek historian Dionysius of Halicarnassus, says that Prince Aeneas led a group of Trojans on a sea voyage to found a new Troy after the Trojan War. They landed on the banks of the Tiber River and a woman travelling with them, Roma, torched their ships to prevent them leaving again. They named the settlement after her.[9] The Roman poet Virgil recounted this legend in his classical epic poem the Aeneid.\\n\\n\",\n",
       " 'number': 5,\n",
       " 'subject': 'Ancinet Rome',\n",
       " 'tone': 'Medium',\n",
       " 'response_json': '{\"1\": {\"mcq\": \"multiple choice question\", \"options\": {\"a\": \"choice here\", \"b\": \"choice here\", \"c\": \"choice here\", \"d\": \"choice here\"}, \"correct\": \"correct answer here\"}, \"2\": {\"mcq\": \"multiple choice question\", \"options\": {\"a\": \"choice here\", \"b\": \"choice here\", \"c\": \"choice here\", \"d\": \"choice here\"}, \"correct\": \"correct answer here\"}, \"3\": {\"mcq\": \"multiple choice question\", \"options\": {\"a\": \"choice here\", \"b\": \"choice here\", \"c\": \"choice here\", \"d\": \"choice here\"}, \"correct\": \"correct answer here\"}}',\n",
       " 'quiz': '```json\\n{\\n  \"1\": {\\n    \"mcq\": \"According to modern historiography, what is the correct chronological order of the major periods of Ancient Rome?\",\\n    \"options\": {\\n      \"a\": \"Roman Kingdom, Roman Republic, Roman Empire\",\\n      \"b\": \"Roman Republic, Roman Kingdom, Roman Empire\",\\n      \"c\": \"Roman Empire, Roman Republic, Roman Kingdom\",\\n      \"d\": \"Roman Kingdom, Roman Empire, Roman Republic\"\\n    },\\n    \"correct\": \"a\"\\n  },\\n  \"2\": {\\n    \"mcq\": \"What was the estimated population of the Roman Empire at its peak in AD 117?\",\\n    \"options\": {\\n      \"a\": \"20 to 40 million inhabitants\",\\n      \"b\": \"50 to 90 million inhabitants\",\\n      \"c\": \"10 to 20 million inhabitants\",\\n      \"d\": \"100 to 120 million inhabitants\"\\n    },\\n    \"correct\": \"b\"\\n  },\\n  \"3\": {\\n    \"mcq\": \"According to Roman legend, who were the twin founders of Rome, said to have been suckled by a she-wolf?\",\\n    \"options\": {\\n      \"a\": \"Aeneas and Romulus\",\\n      \"b\": \"Remus and Aeneas\",\\n      \"c\": \"Romulus and Remus\",\\n      \"d\": \"Mars and Jupiter\"\\n    },\\n    \"correct\": \"c\"\\n  },\\n  \"4\": {\\n    \"mcq\": \"What was the name of the system of government created by the Romans, which is an inspiration for modern republics?\",\\n    \"options\": {\\n      \"a\": \"Senatus Populusque Romanus\",\\n      \"b\": \"Res Publica\",\\n      \"c\": \"Magna Graecia\",\\n      \"d\": \"Roma Quadrata\"\\n    },\\n    \"correct\": \"b\"\\n  },\\n  \"5\": {\\n    \"mcq\": \"Archaeological evidence suggests that large-scale organization around Rome began to emerge around which time?\",\\n    \"options\": {\\n      \"a\": \"650 BC\",\\n      \"b\": \"1000 BC\",\\n      \"c\": \"753 BC\",\\n      \"d\": \"800 BC\"\\n    },\\n    \"correct\": \"d\"\\n  }\\n}\\n```',\n",
       " 'review': 'This quiz is well-constructed, blending foundational knowledge (founders, government) with more advanced analytical concepts (chronology, archaeology, historiography). It effectively tests both recall and critical thinking, making it suitable for students with a firm grasp of the subject matter. No updates are required.'}"
      ]
     },
     "execution_count": 25,
     "metadata": {},
     "output_type": "execute_result"
    }
   ],
   "source": [
    "response"
   ]
  },
  {
   "cell_type": "code",
   "execution_count": 26,
   "id": "0731be6f",
   "metadata": {},
   "outputs": [
    {
     "data": {
      "text/plain": [
       "dict"
      ]
     },
     "execution_count": 26,
     "metadata": {},
     "output_type": "execute_result"
    }
   ],
   "source": [
    "type(response)"
   ]
  },
  {
   "cell_type": "code",
   "execution_count": 27,
   "id": "faf541b3",
   "metadata": {},
   "outputs": [
    {
     "name": "stdout",
     "output_type": "stream",
     "text": [
      "TYPE: <class 'str'>\n",
      "RAW: '```json\\n{\\n  \"1\": {\\n    \"mcq\": \"According to modern historiography, what is the correct chronological order of the major periods of Ancient Rome?\",\\n    \"options\": {\\n      \"a\": \"Roman Kingdom, Roman Republic, Roman Empire\",\\n      \"b\": \"Roman Republic, Roman Kingdom, Roman Empire\",\\n      \"c\": \"Roman Empire, Roman Republic, Roman Kingdom\",\\n      \"d\": \"Roman Kingdom, Roman Empire, Roman Republic\"\\n    },\\n    \"correct\": \"a\"\\n  },\\n  \"2\": {\\n    \"mcq\": \"What was the estimated population of the Roman Empire at its peak in AD 117?\",\\n    \"options\": {\\n      \"a\": \"20 to 40 million inhabitants\",\\n      \"b\": \"50 to 90 million inhabitants\",\\n      \"c\": \"10 to 20 million inhabitants\",\\n      \"d\": \"100 to 120 million inhabitants\"\\n    },\\n    \"correct\": \"b\"\\n  },\\n  \"3\": {\\n    \"mcq\": \"According to Roman legend, who were the twin founders of Rome, said to have been suckled by a she-wolf?\",\\n    \"options\": {\\n      \"a\": \"Aeneas and Romulus\",\\n      \"b\": \"Remus and Aeneas\",\\n      \"c\": \"Romulus and Remus\",\\n      \"d\": \"Mars and Jupiter\"\\n    },\\n    \"correct\": \"c\"\\n  },\\n  \"4\": {\\n    \"mcq\": \"What was the name of the system of government created by the Romans, which is an inspiration for modern republics?\",\\n    \"options\": {\\n      \"a\": \"Senatus Populusque Romanus\",\\n      \"b\": \"Res Publica\",\\n      \"c\": \"Magna Graecia\",\\n      \"d\": \"Roma Quadrata\"\\n    },\\n    \"correct\": \"b\"\\n  },\\n  \"5\": {\\n    \"mcq\": \"Archaeological evidence suggests that large-scale organization around Rome began to emerge around which time?\",\\n    \"options\": {\\n      \"a\": \"650 BC\",\\n      \"b\": \"1000 BC\",\\n      \"c\": \"753 BC\",\\n      \"d\": \"800 BC\"\\n    },\\n    \"correct\": \"d\"\\n  }\\n}\\n```'\n"
     ]
    }
   ],
   "source": [
    "\n",
    "quiz_str = response.get(\"quiz\")\n",
    "print(\"TYPE:\", type(quiz_str))\n",
    "print(\"RAW:\", repr(quiz_str))"
   ]
  },
  {
   "cell_type": "code",
   "execution_count": 28,
   "id": "e5d560b2",
   "metadata": {},
   "outputs": [
    {
     "data": {
      "text/plain": [
       "dict"
      ]
     },
     "execution_count": 28,
     "metadata": {},
     "output_type": "execute_result"
    }
   ],
   "source": [
    "cleaned = re.sub(r\"^```(?:json)?\\n?\", \"\", quiz_str)   # remove starting ```json\n",
    "cleaned = re.sub(r\"\\n?```$\", \"\", cleaned.strip())     # remove ending ```\n",
    "quiz = json.loads(cleaned)\n",
    "type(quiz)"
   ]
  },
  {
   "cell_type": "code",
   "execution_count": 29,
   "id": "183f926e",
   "metadata": {},
   "outputs": [
    {
     "name": "stdout",
     "output_type": "stream",
     "text": [
      "{'1': {'mcq': 'According to modern historiography, what is the correct chronological order of the major periods of Ancient Rome?', 'options': {'a': 'Roman Kingdom, Roman Republic, Roman Empire', 'b': 'Roman Republic, Roman Kingdom, Roman Empire', 'c': 'Roman Empire, Roman Republic, Roman Kingdom', 'd': 'Roman Kingdom, Roman Empire, Roman Republic'}, 'correct': 'a'}, '2': {'mcq': 'What was the estimated population of the Roman Empire at its peak in AD 117?', 'options': {'a': '20 to 40 million inhabitants', 'b': '50 to 90 million inhabitants', 'c': '10 to 20 million inhabitants', 'd': '100 to 120 million inhabitants'}, 'correct': 'b'}, '3': {'mcq': 'According to Roman legend, who were the twin founders of Rome, said to have been suckled by a she-wolf?', 'options': {'a': 'Aeneas and Romulus', 'b': 'Remus and Aeneas', 'c': 'Romulus and Remus', 'd': 'Mars and Jupiter'}, 'correct': 'c'}, '4': {'mcq': 'What was the name of the system of government created by the Romans, which is an inspiration for modern republics?', 'options': {'a': 'Senatus Populusque Romanus', 'b': 'Res Publica', 'c': 'Magna Graecia', 'd': 'Roma Quadrata'}, 'correct': 'b'}, '5': {'mcq': 'Archaeological evidence suggests that large-scale organization around Rome began to emerge around which time?', 'options': {'a': '650 BC', 'b': '1000 BC', 'c': '753 BC', 'd': '800 BC'}, 'correct': 'd'}}\n"
     ]
    }
   ],
   "source": [
    "print(quiz)"
   ]
  },
  {
   "cell_type": "code",
   "execution_count": 30,
   "id": "a66a894e",
   "metadata": {},
   "outputs": [],
   "source": [
    "quiz_table = []\n",
    "for key, value in quiz.items():\n",
    "    mcq = value[\"mcq\"]\n",
    "    option = \"  \".join(\n",
    "        [\n",
    "            f\"{option} : {option_value}\"\n",
    "            for option, option_value in value[\"options\"].items()\n",
    "        ]\n",
    "        )\n",
    "    correct = value[\"correct\"]\n",
    "    quiz_table.append({\"MCQ\":mcq, \"Choice\":option, \"Correct\":correct})"
   ]
  },
  {
   "cell_type": "code",
   "execution_count": 31,
   "id": "018d8baa",
   "metadata": {},
   "outputs": [
    {
     "data": {
      "text/plain": [
       "[{'MCQ': 'According to modern historiography, what is the correct chronological order of the major periods of Ancient Rome?',\n",
       "  'Choice': 'a : Roman Kingdom, Roman Republic, Roman Empire  b : Roman Republic, Roman Kingdom, Roman Empire  c : Roman Empire, Roman Republic, Roman Kingdom  d : Roman Kingdom, Roman Empire, Roman Republic',\n",
       "  'Correct': 'a'},\n",
       " {'MCQ': 'What was the estimated population of the Roman Empire at its peak in AD 117?',\n",
       "  'Choice': 'a : 20 to 40 million inhabitants  b : 50 to 90 million inhabitants  c : 10 to 20 million inhabitants  d : 100 to 120 million inhabitants',\n",
       "  'Correct': 'b'},\n",
       " {'MCQ': 'According to Roman legend, who were the twin founders of Rome, said to have been suckled by a she-wolf?',\n",
       "  'Choice': 'a : Aeneas and Romulus  b : Remus and Aeneas  c : Romulus and Remus  d : Mars and Jupiter',\n",
       "  'Correct': 'c'},\n",
       " {'MCQ': 'What was the name of the system of government created by the Romans, which is an inspiration for modern republics?',\n",
       "  'Choice': 'a : Senatus Populusque Romanus  b : Res Publica  c : Magna Graecia  d : Roma Quadrata',\n",
       "  'Correct': 'b'},\n",
       " {'MCQ': 'Archaeological evidence suggests that large-scale organization around Rome began to emerge around which time?',\n",
       "  'Choice': 'a : 650 BC  b : 1000 BC  c : 753 BC  d : 800 BC',\n",
       "  'Correct': 'd'}]"
      ]
     },
     "execution_count": 31,
     "metadata": {},
     "output_type": "execute_result"
    }
   ],
   "source": [
    "quiz_table"
   ]
  },
  {
   "cell_type": "code",
   "execution_count": 32,
   "id": "67dd4505",
   "metadata": {},
   "outputs": [],
   "source": [
    "quiz_df = pd.DataFrame(quiz_table)"
   ]
  },
  {
   "cell_type": "code",
   "execution_count": 33,
   "id": "f179e332",
   "metadata": {},
   "outputs": [
    {
     "data": {
      "text/html": [
       "<div>\n",
       "<style scoped>\n",
       "    .dataframe tbody tr th:only-of-type {\n",
       "        vertical-align: middle;\n",
       "    }\n",
       "\n",
       "    .dataframe tbody tr th {\n",
       "        vertical-align: top;\n",
       "    }\n",
       "\n",
       "    .dataframe thead th {\n",
       "        text-align: right;\n",
       "    }\n",
       "</style>\n",
       "<table border=\"1\" class=\"dataframe\">\n",
       "  <thead>\n",
       "    <tr style=\"text-align: right;\">\n",
       "      <th></th>\n",
       "      <th>MCQ</th>\n",
       "      <th>Choice</th>\n",
       "      <th>Correct</th>\n",
       "    </tr>\n",
       "  </thead>\n",
       "  <tbody>\n",
       "    <tr>\n",
       "      <th>0</th>\n",
       "      <td>According to modern historiography, what is th...</td>\n",
       "      <td>a : Roman Kingdom, Roman Republic, Roman Empir...</td>\n",
       "      <td>a</td>\n",
       "    </tr>\n",
       "    <tr>\n",
       "      <th>1</th>\n",
       "      <td>What was the estimated population of the Roman...</td>\n",
       "      <td>a : 20 to 40 million inhabitants  b : 50 to 90...</td>\n",
       "      <td>b</td>\n",
       "    </tr>\n",
       "    <tr>\n",
       "      <th>2</th>\n",
       "      <td>According to Roman legend, who were the twin f...</td>\n",
       "      <td>a : Aeneas and Romulus  b : Remus and Aeneas  ...</td>\n",
       "      <td>c</td>\n",
       "    </tr>\n",
       "    <tr>\n",
       "      <th>3</th>\n",
       "      <td>What was the name of the system of government ...</td>\n",
       "      <td>a : Senatus Populusque Romanus  b : Res Public...</td>\n",
       "      <td>b</td>\n",
       "    </tr>\n",
       "    <tr>\n",
       "      <th>4</th>\n",
       "      <td>Archaeological evidence suggests that large-sc...</td>\n",
       "      <td>a : 650 BC  b : 1000 BC  c : 753 BC  d : 800 BC</td>\n",
       "      <td>d</td>\n",
       "    </tr>\n",
       "  </tbody>\n",
       "</table>\n",
       "</div>"
      ],
      "text/plain": [
       "                                                 MCQ  \\\n",
       "0  According to modern historiography, what is th...   \n",
       "1  What was the estimated population of the Roman...   \n",
       "2  According to Roman legend, who were the twin f...   \n",
       "3  What was the name of the system of government ...   \n",
       "4  Archaeological evidence suggests that large-sc...   \n",
       "\n",
       "                                              Choice Correct  \n",
       "0  a : Roman Kingdom, Roman Republic, Roman Empir...       a  \n",
       "1  a : 20 to 40 million inhabitants  b : 50 to 90...       b  \n",
       "2  a : Aeneas and Romulus  b : Remus and Aeneas  ...       c  \n",
       "3  a : Senatus Populusque Romanus  b : Res Public...       b  \n",
       "4    a : 650 BC  b : 1000 BC  c : 753 BC  d : 800 BC       d  "
      ]
     },
     "execution_count": 33,
     "metadata": {},
     "output_type": "execute_result"
    }
   ],
   "source": [
    "quiz_df"
   ]
  },
  {
   "cell_type": "code",
   "execution_count": 34,
   "id": "0adec72b",
   "metadata": {},
   "outputs": [],
   "source": [
    "quiz_df.to_csv(\"quiz.csv\", index=False)"
   ]
  },
  {
   "cell_type": "code",
   "execution_count": null,
   "id": "01e48ca3",
   "metadata": {},
   "outputs": [],
   "source": []
  }
 ],
 "metadata": {
  "kernelspec": {
   "display_name": "env",
   "language": "python",
   "name": "python3"
  },
  "language_info": {
   "codemirror_mode": {
    "name": "ipython",
    "version": 3
   },
   "file_extension": ".py",
   "mimetype": "text/x-python",
   "name": "python",
   "nbconvert_exporter": "python",
   "pygments_lexer": "ipython3",
   "version": "3.10.18"
  }
 },
 "nbformat": 4,
 "nbformat_minor": 5
}
